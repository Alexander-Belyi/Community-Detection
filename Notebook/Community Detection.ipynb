{
 "cells": [
  {
   "cell_type": "code",
   "execution_count": 1,
   "metadata": {},
   "outputs": [],
   "source": [
    "import time\n",
    "import argparse\n",
    "import numpy as np\n",
    "\n",
    "import torch\n",
    "import torch.optim as optim\n",
    "\n",
    "from utils import load_data,normalize,toy_data,nmi_score,modularity_matrix,modularity\n",
    "from models import GNN\n",
    "\n",
    "import community as community_louvain\n",
    "from networkx import from_numpy_matrix\n",
    "import networkx as nx\n",
    "\n",
    "torch.set_printoptions(sci_mode=False)"
   ]
  },
  {
   "cell_type": "code",
   "execution_count": 2,
   "metadata": {},
   "outputs": [],
   "source": [
    "lr = 0.0001\n",
    "cuda = torch.cuda.is_available()\n",
    "weight_decay = 10e-4\n",
    "epochs = 1000\n",
    "seed = 165"
   ]
  },
  {
   "cell_type": "code",
   "execution_count": 3,
   "metadata": {},
   "outputs": [],
   "source": [
    "np.random.seed(seed)\n",
    "torch.manual_seed(seed)\n",
    "if cuda:\n",
    "    torch.cuda.manual_seed(seed)"
   ]
  },
  {
   "cell_type": "code",
   "execution_count": 4,
   "metadata": {},
   "outputs": [],
   "source": [
    "G = nx.karate_club_graph()\n",
    "adj = nx.to_numpy_matrix(G)\n",
    "adj = np.expand_dims(adj, axis=0)\n",
    "\n",
    "adj_norm = normalize(adj)\n",
    "\n",
    "adj = torch.FloatTensor(np.array(adj))\n",
    "adj_norm = torch.FloatTensor(np.array(adj_norm))\n",
    "\n",
    "# features\n",
    "partition = community_louvain.best_partition(G)\n",
    "\n",
    "#get binary matrix of the partition\n",
    "nb_community = max(list(partition.values())) + 1\n",
    "communities =  np.array(list(partition.values())).reshape(-1)\n",
    "C = np.eye(nb_community)[communities]\n",
    "features = torch.FloatTensor(C)\n",
    "features = features.unsqueeze(0)\n",
    "C = torch.FloatTensor(C).unsqueeze(0)\n",
    "\n",
    "Q = modularity_matrix(adj)"
   ]
  },
  {
   "cell_type": "code",
   "execution_count": 5,
   "metadata": {},
   "outputs": [],
   "source": [
    "# Model and optimizer\n",
    "\n",
    "model = GNN(batch_size=adj.shape[0],\n",
    "            nfeat=adj.shape[1],\n",
    "            ndim=nb_community)\n",
    "\n",
    "if cuda:\n",
    "    model.cuda()\n",
    "    features = features.cuda()\n",
    "    adj = adj.cuda()\n",
    "    adj_norm = adj_norm.cuda()\n",
    "    Q = Q.cuda()\n",
    "    C = C.cuda()\n",
    "\n",
    "# Train model\n",
    "t_total = time.time()\n",
    "\n",
    "optimizer = optim.Adam(model.parameters(),\n",
    "                       lr=lr, weight_decay=weight_decay)"
   ]
  },
  {
   "cell_type": "code",
   "execution_count": 6,
   "metadata": {},
   "outputs": [
    {
     "name": "stdout",
     "output_type": "stream",
     "text": [
      "Epoch: 0001 Modularity: 0.41559827 time: 0.4361s\n",
      "Epoch: 0101 Modularity: 0.41583103 time: 0.0000s\n",
      "Epoch: 0201 Modularity: 0.41620481 time: 0.0087s\n",
      "Epoch: 0301 Modularity: 0.41724196 time: 0.0008s\n",
      "Epoch: 0401 Modularity: 0.41724196 time: 0.0008s\n",
      "Epoch: 0501 Modularity: 0.41724196 time: 0.0000s\n",
      "Epoch: 0601 Modularity: 0.41724196 time: 0.0008s\n",
      "Epoch: 0701 Modularity: 0.41724196 time: 0.0000s\n",
      "Epoch: 0801 Modularity: 0.41724196 time: 0.0075s\n",
      "Epoch: 0901 Modularity: 0.41724196 time: 0.0000s\n",
      "Optimization Finished!\n",
      "Total time elapsed: 1.6004s\n"
     ]
    }
   ],
   "source": [
    "for epoch in range(epochs):\n",
    "\n",
    "    t = time.time()\n",
    "    model.train()\n",
    "    optimizer.zero_grad()\n",
    "\n",
    "    C = model(features, adj_norm)\n",
    "    loss = modularity(C,Q)\n",
    "\n",
    "    loss.backward()\n",
    "\n",
    "    optimizer.step()\n",
    "\n",
    "    if epoch == 0:\n",
    "        best_loss = loss\n",
    "    else:\n",
    "        if loss < best_loss:\n",
    "            best_loss = loss\n",
    "\n",
    "    if epoch % 100 == 0:\n",
    "        print('Epoch: {:04d}'.format(epoch + 1),\n",
    "              'Modularity: {:.8f}'.format(-best_loss.item()),\n",
    "              'time: {:.4f}s'.format(time.time() - t))\n",
    "\n",
    "\n",
    "\n",
    "print(\"Optimization Finished!\")\n",
    "print(\"Total time elapsed: {:.4f}s\".format(time.time() - t_total))"
   ]
  },
  {
   "cell_type": "code",
   "execution_count": null,
   "metadata": {},
   "outputs": [],
   "source": []
  }
 ],
 "metadata": {
  "kernelspec": {
   "display_name": "Python 3",
   "language": "python",
   "name": "python3"
  },
  "language_info": {
   "codemirror_mode": {
    "name": "ipython",
    "version": 3
   },
   "file_extension": ".py",
   "mimetype": "text/x-python",
   "name": "python",
   "nbconvert_exporter": "python",
   "pygments_lexer": "ipython3",
   "version": "3.8.7"
  }
 },
 "nbformat": 4,
 "nbformat_minor": 4
}
